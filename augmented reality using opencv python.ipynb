{
 "cells": [
  {
   "cell_type": "code",
   "execution_count": 7,
   "metadata": {},
   "outputs": [],
   "source": [
    "import numpy as np \n",
    "import cv2 as cv\n",
    "\n",
    "target_image = cv.imread(\"image1.jpg\",cv.COLOR_BGR2RGB)\n",
    "projecting_image = cv.imread(\"img3.png\",cv.COLOR_BGR2RGB)\n",
    "\n",
    "target_image = cv.resize(target_image,(200,300))\n",
    "projecting_image = cv.resize(projecting_image,(200,300))\n",
    "\n",
    "\n",
    "\n",
    "# converting to grayscale\n",
    "\n",
    "gray_target = cv.cvtColor(target_image,cv.COLOR_BGR2GRAY)\n",
    "\n",
    "\n",
    "\n",
    "orb = cv.ORB.create(1000)\n",
    "\n",
    "# Brute-Force Matching with ORB\n",
    "bf = cv.BFMatcher(cv.NORM_HAMMING, crossCheck=True)\n",
    "\n",
    "vid = cv.VideoCapture(\"video1.mp4\")     #sizeiisue\n",
    "\n",
    "while True:\n",
    "    yesNo,frame = vid.read()\n",
    "    # frame = cv.resize(frame,(600,450))\n",
    "    if yesNo == False:\n",
    "        break\n",
    "\n",
    "    gray_scan = cv.cvtColor(frame,cv.COLOR_BGR2GRAY)\n",
    "\n",
    "    kp1,des1 = orb.detectAndCompute(gray_target,None)\n",
    "    kp2,des2 = orb.detectAndCompute(gray_scan,None)\n",
    "\n",
    "    matches = bf.knnMatch(des1,des2,k=1)\n",
    "    bf = cv.BFMatcher(cv.NORM_HAMMING, crossCheck=True)\n",
    "    # Match descriptors.\n",
    "    matches = bf.match(des1,des2)\n",
    "    # Sort them in the order of their distance.\n",
    "    matches = sorted(matches, key = lambda x:x.distance)\n",
    "\n",
    "    if len(matches)>100:\n",
    "\n",
    "        # to convert Keypoints (from a list of matches) to an argument for findHomography().\n",
    "        src_pts = np.float32([ kp1[m.queryIdx].pt for m in matches ]).reshape(-1,1,2)\n",
    "        dst_pts = np.float32([ kp2[m.trainIdx].pt for m in matches ]).reshape(-1,1,2)\n",
    "        m, mask = cv.findHomography(src_pts, dst_pts, cv.RANSAC,5.0)\n",
    "\n",
    "        h,w,z = frame.shape\n",
    "        pts = np.float32([ [0,0],[0,h-1],[w-1,h-1],[w-1,0] ]).reshape(-1,1,2)\n",
    "                \n",
    "        img_coordinate = np.float32([[0,0],[0,299],[150,50],[299,0]]).reshape(-1,1,2)\n",
    "\n",
    "        live_coordinate = cv.perspectiveTransform(img_coordinate,m)\n",
    "\n",
    "        augmented_frame = cv.warpPerspective(projecting_image,m,(600,450))\n",
    "\n",
    "        f_area = cv.fillConvexPoly(frame,dst_pts.astype(int),(0,0,0))\n",
    "        f_area = cv.resize(f_area,(600,450))\n",
    "\n",
    "        final_frame = f_area+augmented_frame\n",
    "        cv.imshow(\"img\",final_frame)\n",
    "\n",
    "\n",
    "\n",
    "    if cv.waitKey(1) == ord(\"q\"):\n",
    "        break\n",
    "\n",
    "vid.release()\n",
    "cv.destroyAllWindows()"
   ]
  },
  {
   "cell_type": "code",
   "execution_count": 7,
   "metadata": {},
   "outputs": [
    {
     "data": {
      "text/plain": [
       "(300, 200, 3)"
      ]
     },
     "execution_count": 7,
     "metadata": {},
     "output_type": "execute_result"
    }
   ],
   "source": [
    "target_image.shape"
   ]
  }
 ],
 "metadata": {
  "kernelspec": {
   "display_name": "Python 3",
   "language": "python",
   "name": "python3"
  },
  "language_info": {
   "codemirror_mode": {
    "name": "ipython",
    "version": 3
   },
   "file_extension": ".py",
   "mimetype": "text/x-python",
   "name": "python",
   "nbconvert_exporter": "python",
   "pygments_lexer": "ipython3",
   "version": "3.11.2"
  }
 },
 "nbformat": 4,
 "nbformat_minor": 2
}
